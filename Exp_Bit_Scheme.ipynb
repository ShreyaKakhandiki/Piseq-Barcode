{
 "cells": [
  {
   "cell_type": "code",
   "execution_count": 1,
   "id": "efc9aa45",
   "metadata": {},
   "outputs": [],
   "source": [
    "import math\n",
    "import itertools\n",
    "import pandas as pd\n",
    "import numpy as np"
   ]
  },
  {
   "cell_type": "markdown",
   "id": "e962467c",
   "metadata": {},
   "source": [
    "# Barcode Number Calculation for specific size/sum/resolution"
   ]
  },
  {
   "cell_type": "code",
   "execution_count": 30,
   "id": "bf9c5a58",
   "metadata": {},
   "outputs": [
    {
     "name": "stdout",
     "output_type": "stream",
     "text": [
      "Number of unique barcodes needed: 27777.777777777774\n",
      "Number of slots needed: 28\n"
     ]
    }
   ],
   "source": [
    "# CHANGE THESE INPUTS BASED ON EXPERIMENTAL DESIGN\n",
    "size = 5  # Side length in mm\n",
    "sum_barcodes = 4  # Exact number of barcodes that must ligate in one section\n",
    "resolution = 30  # Resolution in microns\n",
    "\n",
    "# Calculate number of unique barcode regions needed\n",
    "num_unique = ((size * 1000) / resolution) ** 2\n",
    "\n",
    "print(f\"Number of unique barcodes needed: {num_unique}\")\n",
    "\n",
    "slots = sum_barcodes  # Start with minimum slots required\n",
    "\n",
    "def count_valid_combinations(slots, target_sum):\n",
    "    \"\"\"Calculate valid combinations using combinatorial formula instead of iteration.\"\"\"\n",
    "    return math.comb(slots + target_sum - 1, target_sum)\n",
    "\n",
    "# Find minimum slots needed to reach num_unique valid barcode combinations\n",
    "while count_valid_combinations(slots, sum_barcodes) < num_unique:\n",
    "    slots += 1\n",
    "\n",
    "print(f\"Number of slots needed: {slots}\")"
   ]
  },
  {
   "cell_type": "markdown",
   "id": "ba9c1a67",
   "metadata": {},
   "source": [
    "# Function to Generate Bit Strings"
   ]
  },
  {
   "cell_type": "markdown",
   "id": "c389cfce",
   "metadata": {},
   "source": [
    "Helper for counting (does not include sum limitation)"
   ]
  },
  {
   "cell_type": "code",
   "execution_count": 2,
   "id": "becc176d",
   "metadata": {},
   "outputs": [],
   "source": []
  },
  {
   "cell_type": "markdown",
   "id": "0eccd3f5",
   "metadata": {},
   "source": [
    "Counting helper with sum limitation (USE THIS ONE) "
   ]
  },
  {
   "cell_type": "code",
   "execution_count": 12,
   "id": "a7be8617",
   "metadata": {},
   "outputs": [],
   "source": [
    "def count_valid_combinations(slots, target_sum):\n",
    "    return math.comb(slots, target_sum)"
   ]
  },
  {
   "cell_type": "markdown",
   "id": "4b7fdfea",
   "metadata": {},
   "source": [
    "Bit string generator"
   ]
  },
  {
   "cell_type": "code",
   "execution_count": 13,
   "id": "2d90dc58",
   "metadata": {},
   "outputs": [],
   "source": [
    "def generate_bit_strings(sum_barcodes, max_ports, num_unique): \n",
    "\n",
    "    max_sections = count_valid_combinations(max_ports, sum_barcodes)\n",
    "    \n",
    "    if(num_unique > max_sections):\n",
    "        print(\"This size & resolution cannot be achieved with \" + str(max_ports) + \" ports, please adjust either parameter and try again\")\n",
    "        return \n",
    "    \n",
    "    slots = sum_barcodes\n",
    "    while count_valid_combinations(slots, sum_barcodes) < num_unique:\n",
    "        slots += 1\n",
    "    \n",
    "    print(str(slots) + \" slots needed\")\n",
    "    \n",
    "    # Step 2: Generate binary strings\n",
    "    binary_strings = []\n",
    "    for i in range(2**slots):\n",
    "        # Convert the number to binary and pad with leading zeros to match 'slots'\n",
    "        binary_str = format(i, f'0{slots}b')\n",
    "\n",
    "        # Check the number of 1s\n",
    "        if binary_str.count('1') == sum_barcodes:\n",
    "            binary_strings.append(binary_str)\n",
    "\n",
    "        # Stop once we reach the required number of unique strings\n",
    "        if len(binary_strings) >= num_unique:\n",
    "            break\n",
    "\n",
    "    # Output the results\n",
    "    print(f\"Generated {len(binary_strings)} binary strings:\")\n",
    "    \n",
    "    return(binary_strings)\n",
    "\n",
    "#print(\"The max # of unique combinations for \" + str(max_ports) + \" ports is: \" + str(max_sections))\n"
   ]
  },
  {
   "cell_type": "markdown",
   "id": "d5e093a8",
   "metadata": {},
   "source": [
    "Test Function"
   ]
  },
  {
   "cell_type": "code",
   "execution_count": 4,
   "id": "aa46339c",
   "metadata": {},
   "outputs": [
    {
     "name": "stdout",
     "output_type": "stream",
     "text": [
      "19 slots needed\n",
      "Generated 11628 binary strings:\n",
      "['0000000000000011111', '0000000000000101111', '0000000000000110111', '0000000000000111011', '0000000000000111101']\n"
     ]
    }
   ],
   "source": [
    "size = 5  # Side length in mm\n",
    "sum_barcodes = 5\n",
    "max_ports = 20\n",
    "resolution = 30\n",
    "\n",
    "# Calculate number of unique barcode regions needed\n",
    "num_unique = ((size * 1000) / resolution) ** 2\n",
    "\n",
    "strings = generate_bit_strings(sum_barcodes, max_ports, num_unique)\n",
    "\n",
    "print(strings[0:5])\n",
    "\n"
   ]
  },
  {
   "cell_type": "markdown",
   "id": "6dc511c5",
   "metadata": {},
   "source": [
    "# Generate Cleave_Cycle.csv from Coordinates file"
   ]
  },
  {
   "cell_type": "markdown",
   "id": "9c57e440",
   "metadata": {},
   "source": [
    "Function to generate coordinates of submasks \n",
    "\n",
    "- inputs: coordinates file, # of subgroups per FOV\n",
    "- outputs: new file, with one subgroup per row, COLS: x, y, z\n",
    "\n",
    "NOTE: # of subgroups should be a square number, or it will divide into the closest square number of sections"
   ]
  },
  {
   "cell_type": "code",
   "execution_count": 4,
   "id": "2477bc38",
   "metadata": {},
   "outputs": [],
   "source": [
    "def submask_coordinates(coordinates_csv, divide_factor):\n",
    "    \n",
    "    # each FOV is assumed to be 300x300um \n",
    "    \n",
    "    coords = pd.read_csv(coordinates_csv)\n",
    "    submask_list = []\n",
    "    \n",
    "    # Define the size of each FOV (assuming 300x300um)\n",
    "    fov_size = 300  # microns\n",
    "    submask_size = fov_size / np.sqrt(divide_factor)  # Subdivide evenly\n",
    "    \n",
    "    for _, row in coords.iterrows():\n",
    "        x_start, y_start, z = row['x'], row['y'], row['z']\n",
    "        \n",
    "        for i in range(int(np.sqrt(divide_factor))):\n",
    "            for j in range(int(np.sqrt(divide_factor))):\n",
    "                new_x = x_start + i * submask_size\n",
    "                new_y = y_start + j * submask_size\n",
    "                submask_list.append({'x': new_x, 'y': new_y, 'z': z})\n",
    "    \n",
    "    submask_df = pd.DataFrame(submask_list)\n",
    "    \n",
    "    return submask_df\n"
   ]
  },
  {
   "cell_type": "code",
   "execution_count": 29,
   "id": "c2930c37",
   "metadata": {},
   "outputs": [
    {
     "name": "stdout",
     "output_type": "stream",
     "text": [
      "          x       y        z\n",
      "0  -11000.0  1500.1  4691.54\n",
      "1  -11000.0  1650.1  4691.54\n",
      "2  -10850.0  1500.1  4691.54\n",
      "3  -10850.0  1650.1  4691.54\n",
      "4  -11224.8  1499.9  4693.02\n",
      "5  -11224.8  1649.9  4693.02\n",
      "6  -11074.8  1499.9  4693.02\n",
      "7  -11074.8  1649.9  4693.02\n",
      "8  -11224.9  1725.0  4694.46\n",
      "9  -11224.9  1875.0  4694.46\n",
      "10 -11074.9  1725.0  4694.46\n",
      "11 -11074.9  1875.0  4694.46\n",
      "12 -10999.8  1725.0  4693.38\n",
      "13 -10999.8  1875.0  4693.38\n",
      "14 -10849.8  1725.0  4693.38\n",
      "15 -10849.8  1875.0  4693.38\n",
      "16 -10774.9  1725.0  4692.14\n",
      "17 -10774.9  1875.0  4692.14\n",
      "18 -10624.9  1725.0  4692.14\n",
      "19 -10624.9  1875.0  4692.14\n",
      "20 -10774.9  1500.2  4690.68\n",
      "21 -10774.9  1650.2  4690.68\n",
      "22 -10624.9  1500.2  4690.68\n",
      "23 -10624.9  1650.2  4690.68\n",
      "24 -10774.9  1274.7  4689.06\n",
      "25 -10774.9  1424.7  4689.06\n",
      "26 -10624.9  1274.7  4689.06\n",
      "27 -10624.9  1424.7  4689.06\n",
      "28 -10999.8  1275.0  4690.04\n",
      "29 -10999.8  1425.0  4690.04\n",
      "30 -10849.8  1275.0  4690.04\n",
      "31 -10849.8  1425.0  4690.04\n",
      "32 -11225.1  1275.0  4690.78\n",
      "33 -11225.1  1425.0  4690.78\n",
      "34 -11075.1  1275.0  4690.78\n",
      "35 -11075.1  1425.0  4690.78\n"
     ]
    }
   ],
   "source": [
    "# Test Submask Coordinates Function\n",
    "\n",
    "submask_coords = submask_coordinates(\"_latest3x3/_coordinates.csv\", 4)\n",
    "\n",
    "print(submask_coords)"
   ]
  },
  {
   "cell_type": "markdown",
   "id": "e298ee2f",
   "metadata": {},
   "source": [
    "Function to assign ports, will integrate into mercury workflow"
   ]
  },
  {
   "cell_type": "code",
   "execution_count": 5,
   "id": "4a8e66d2",
   "metadata": {},
   "outputs": [],
   "source": [
    "# function to create the port scheme & cleave_cycle.csv file from bit strings and coordinates file. \n",
    "# divide_factor is the number of submasks per FOV \n",
    "\n",
    "def assign_ports(subgroup_df, bit_strings):\n",
    "    \n",
    "    # add bit strings to the dataframe \n",
    "    subgroup_df['barcodes'] = bit_strings\n",
    "    \n",
    "    # add 'mask' column with mask name to the subgroup dataframe\n",
    "    \n",
    "    return subgroup_df\n",
    "    \n",
    "    \n",
    "   "
   ]
  },
  {
   "cell_type": "markdown",
   "id": "c20063d4",
   "metadata": {},
   "source": [
    "Test port assignment function"
   ]
  },
  {
   "cell_type": "code",
   "execution_count": 16,
   "id": "0cf38578",
   "metadata": {},
   "outputs": [
    {
     "name": "stdout",
     "output_type": "stream",
     "text": [
      "<function submask_coordinates at 0x2b1e387a7430>\n",
      "144\n",
      "10 slots needed\n",
      "Generated 144 binary strings:\n",
      "           x       y        z    barcodes\n",
      "0   -11000.0  1500.1  4691.54  0000001111\n",
      "1   -11000.0  1575.1  4691.54  0000010111\n",
      "2   -11000.0  1650.1  4691.54  0000011011\n",
      "3   -11000.0  1725.1  4691.54  0000011101\n",
      "4   -10925.0  1500.1  4691.54  0000011110\n",
      "..       ...     ...      ...         ...\n",
      "139 -11075.1  1500.0  4690.78  1000101001\n",
      "140 -11000.1  1275.0  4690.78  1000101010\n",
      "141 -11000.1  1350.0  4690.78  1000101100\n",
      "142 -11000.1  1425.0  4690.78  1000110001\n",
      "143 -11000.1  1500.0  4690.78  1000110010\n",
      "\n",
      "[144 rows x 4 columns]\n"
     ]
    }
   ],
   "source": [
    "submask_coords = submask_coordinates(\"_latest3x3/_coordinates.csv\", 16)\n",
    "\n",
    "print(submask_coordinates)\n",
    "\n",
    "n_unique = len(submask_coords)\n",
    "\n",
    "print(n_unique)\n",
    "\n",
    "bit_strings = generate_bit_strings(4,20,n_unique)\n",
    "\n",
    "#print(bit_strings)\n",
    "\n",
    "subgroup_df = assign_ports(submask_coords, bit_strings)\n",
    "\n",
    "print(subgroup_df)"
   ]
  },
  {
   "cell_type": "markdown",
   "id": "9817d30d",
   "metadata": {},
   "source": [
    "# Test whole workflow"
   ]
  },
  {
   "cell_type": "code",
   "execution_count": null,
   "id": "e5cd1e45",
   "metadata": {},
   "outputs": [],
   "source": [
    "coords_path = latest_path + \"/_coordinates\" \n",
    "    \n",
    "subgroup_df = submask_coordinates(\"_latest3x3/_coordinates.csv\", divide_factor)"
   ]
  },
  {
   "cell_type": "code",
   "execution_count": null,
   "id": "1e7b4fcc",
   "metadata": {},
   "outputs": [],
   "source": []
  }
 ],
 "metadata": {
  "kernelspec": {
   "display_name": "piseq",
   "language": "python",
   "name": "piseq"
  },
  "language_info": {
   "codemirror_mode": {
    "name": "ipython",
    "version": 3
   },
   "file_extension": ".py",
   "mimetype": "text/x-python",
   "name": "python",
   "nbconvert_exporter": "python",
   "pygments_lexer": "ipython3",
   "version": "3.9.20"
  }
 },
 "nbformat": 4,
 "nbformat_minor": 5
}
